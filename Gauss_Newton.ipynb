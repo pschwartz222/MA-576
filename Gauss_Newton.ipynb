{
  "nbformat": 4,
  "nbformat_minor": 0,
  "metadata": {
    "colab": {
      "provenance": [],
      "authorship_tag": "ABX9TyPwPRZmdbMw8aoGF3iqLLF4",
      "include_colab_link": true
    },
    "kernelspec": {
      "name": "python3",
      "display_name": "Python 3"
    },
    "language_info": {
      "name": "python"
    }
  },
  "cells": [
    {
      "cell_type": "markdown",
      "metadata": {
        "id": "view-in-github",
        "colab_type": "text"
      },
      "source": [
        "<a href=\"https://colab.research.google.com/github/pschwartz222/MA-576/blob/main/Gauss_Newton.ipynb\" target=\"_parent\"><img src=\"https://colab.research.google.com/assets/colab-badge.svg\" alt=\"Open In Colab\"/></a>"
      ]
    },
    {
      "cell_type": "code",
      "execution_count": 20,
      "metadata": {
        "id": "lnDbVclsh3xh"
      },
      "outputs": [],
      "source": [
        "import numpy as np\n",
        "from numpy.linalg import eig\n",
        "from numpy import linalg as LA\n",
        "import matplotlib.pyplot as plt\n",
        "import sympy\n",
        "from matplotlib import cm\n",
        "from mpl_toolkits.mplot3d import Axes3D\n",
        "from sympy import diff, symbols\n",
        "import pylab\n",
        "import math\n",
        "from sympy import cos, sin, exp, Matrix, hessian\n",
        "import scipy as sp"
      ]
    },
    {
      "cell_type": "code",
      "source": [
        "x, y, z = sympy.symbols('x y z')\n",
        "\n",
        "g_1 = 3*x- cos(y*z)-(3/2)\n",
        "g_2 = 4*x**2 - 625*y**2 + 2*y - 1\n",
        "g_3 = exp(-x*y) + 20*z + (10*np.pi - 3)/3\n",
        "\n",
        "G = Matrix([[g_1], [g_2], [g_3]])"
      ],
      "metadata": {
        "id": "4NfmAyv4h_fR"
      },
      "execution_count": 21,
      "outputs": []
    },
    {
      "cell_type": "code",
      "source": [
        "print(G)"
      ],
      "metadata": {
        "colab": {
          "base_uri": "https://localhost:8080/"
        },
        "id": "BQf7u6GmnbmS",
        "outputId": "956a97a8-ea4e-46be-bbaa-971487ce0549"
      },
      "execution_count": 3,
      "outputs": [
        {
          "output_type": "stream",
          "name": "stdout",
          "text": [
            "Matrix([[3*x - cos(y*z) - 1.5], [4*x**2 - 625*y**2 + 2*y - 1], [20*z + 9.47197551196598 + exp(-x*y)]])\n"
          ]
        }
      ]
    },
    {
      "cell_type": "code",
      "source": [
        "G.subs({x: .46, y: 1.9, z: -.9})"
      ],
      "metadata": {
        "colab": {
          "base_uri": "https://localhost:8080/",
          "height": 78
        },
        "id": "u3cz-vNYXYGJ",
        "outputId": "ab8054db-7740-4559-c901-a3e88bd6624a"
      },
      "execution_count": 4,
      "outputs": [
        {
          "output_type": "execute_result",
          "data": {
            "text/plain": [
              "Matrix([\n",
              "[0.0187545349523777],\n",
              "[        -2252.6036],\n",
              "[ -8.11074539783533]])"
            ],
            "text/latex": "$\\displaystyle \\left[\\begin{matrix}0.0187545349523777\\\\-2252.6036\\\\-8.11074539783533\\end{matrix}\\right]$"
          },
          "metadata": {},
          "execution_count": 4
        }
      ]
    },
    {
      "cell_type": "code",
      "source": [
        "def Gauss_Newtown_Arm3(x_0, G, varis, tol, delta, s, beta, sigma):\n",
        "  f = (.5*(G.T @ G))[0]\n",
        "  gs = [G[i,:][0] for i in range(len(G))]\n",
        "\n",
        "  num_f = sympy.lambdify(varis, f)\n",
        "  num_G = sympy.lambdify(varis, G)\n",
        "\n",
        "  grad_f = Matrix([[diff(f, v) for v in varis]]).T\n",
        "\n",
        "  Jak = Matrix([[diff(g, v) for v in varis] for g in gs])\n",
        "\n",
        "  num_grad_f = sympy.lambdify(varis, grad_f)\n",
        "\n",
        "  num_Jak = sympy.lambdify(varis, Jak)\n",
        "\n",
        "  err = math.inf\n",
        "\n",
        "  x_it = x_0\n",
        "\n",
        "  a, b, c = x_it[:, 0]\n",
        "\n",
        "  D = (.5)*(LA.inv(num_Jak(a,b,c).T @ num_Jak(a,b,c))) #Gauss-Newton scalar matrix\n",
        "\n",
        "  Gr = num_grad_f(a,b,c)\n",
        "\n",
        "  d = - D @ Gr #Gauss-Newton descent direction\n",
        "\n",
        "  it = 0\n",
        "\n",
        "\n",
        "  while err > tol:\n",
        "    alpha = s\n",
        "    x_next = x_it + alpha*d\n",
        "    while num_f(a, b, c) - num_f(x_next[0,0], x_next[1,0], x_next[2,0]) < - sigma*alpha*(d.T @ Gr)[0][0]:\n",
        "      alpha = beta*alpha\n",
        "      x_next = x_it + alpha*d\n",
        "\n",
        "    if LA.norm(x_it - x_next) < delta :\n",
        "      err = 0\n",
        "      x_it = x_next\n",
        "      it = it + 1\n",
        "\n",
        "    else:\n",
        "\n",
        "      #update iterates\n",
        "\n",
        "      x_it = x_next\n",
        "      a, b, c = x_it[:, 0]\n",
        "      Gr = num_grad_f(a,b,c)\n",
        "      D = (.5)*(LA.inv(num_Jak(a,b,c).T @ num_Jak(a,b,c)))\n",
        "      d = - D @ Gr\n",
        "      err = LA.norm(Gr)\n",
        "      it = it + 1\n",
        "\n",
        "  x_star_arm = x_it\n",
        "  a, b, c = x_star_arm[:, 0]\n",
        "\n",
        "  print('Number of iterations =', it)\n",
        "  print('Approximate solution: x* =', x_star_arm.T)\n",
        "  print('G(x*) =')\n",
        "  print(num_G(a, b, c))\n",
        "  print('||G(x*)||^2 =', 2*num_f(a,b,c))\n",
        "  print()\n",
        "  return(x_star_arm.T)"
      ],
      "metadata": {
        "id": "t2vHzL_2hq1R"
      },
      "execution_count": 22,
      "outputs": []
    },
    {
      "cell_type": "code",
      "source": [
        "x_0 = np.array([[0,0,0]]).T\n",
        "tol = 10**(-5)\n",
        "delta = 10**(-4)\n",
        "s = 2\n",
        "beta = .5\n",
        "sigma = .25\n",
        "\n",
        "x_star = Gauss_Newtown_Arm3(x_0, G, [x, y, z], tol, delta, s, beta, sigma)"
      ],
      "metadata": {
        "colab": {
          "base_uri": "https://localhost:8080/"
        },
        "id": "0aA8yU7C5YIC",
        "outputId": "0c8bf1a8-0d71-4c94-92cc-8d8e4b74df85"
      },
      "execution_count": 23,
      "outputs": [
        {
          "output_type": "stream",
          "name": "stdout",
          "text": [
            "Number of iterations = 6\n",
            "Approximate solution: x* = [[ 0.83319658  0.05494366 -0.52136143]]\n",
            "G(x*) =\n",
            "[[ 4.44755344e-13]\n",
            " [-2.08541784e-09]\n",
            " [ 1.08668630e-12]]\n",
            "||G(x*)||^2 = 4.348968939558389e-18\n",
            "\n"
          ]
        }
      ]
    },
    {
      "cell_type": "markdown",
      "source": [
        "Let's use Gauss-Newton to find a least-squares approximation for this data."
      ],
      "metadata": {
        "id": "cNDdOe9636pa"
      }
    },
    {
      "cell_type": "code",
      "source": [
        "S = [.038, .194, .425, .626, 1.253, 2.5, 3.74] #subtrate concentrations\n",
        "R = [.05, .127, .094, .2122, .2729, .2665, .3317] #reaction rates"
      ],
      "metadata": {
        "id": "ohJzFFu6MMr3"
      },
      "execution_count": 7,
      "outputs": []
    },
    {
      "cell_type": "code",
      "source": [
        "plt.figure()\n",
        "plt.scatter(S, R, label = 'data')\n",
        "plt.xlabel('subtrate concentration')\n",
        "plt.ylabel('reaction rate')\n",
        "plt.legend()\n",
        "plt.show()"
      ],
      "metadata": {
        "colab": {
          "base_uri": "https://localhost:8080/",
          "height": 449
        },
        "id": "jWgKbWnb5-xl",
        "outputId": "58b7a937-489a-44b8-9668-ad62b424c0a0"
      },
      "execution_count": 8,
      "outputs": [
        {
          "output_type": "display_data",
          "data": {
            "text/plain": [
              "<Figure size 640x480 with 1 Axes>"
            ],
            "image/png": "[encoded data removed]"
          },
          "metadata": {}
        }
      ]
    },
    {
      "cell_type": "code",
      "source": [
        "H = sympy.zeros(len(S), 1)\n",
        "\n",
        "for i in range(len(S)):\n",
        "  H[i,0] = (x*S[i])/(y + S[i]) - R[i]\n",
        "\n",
        "num_H = sympy.lambdify([x, y], H)"
      ],
      "metadata": {
        "id": "-1HfPHh3M64P"
      },
      "execution_count": 9,
      "outputs": []
    },
    {
      "cell_type": "code",
      "source": [
        "def Gauss_Newtown_Arm2(x_0, G, varis, tol, delta, s, beta, sigma):\n",
        "  f = (.5*(G.T @ G))[0]\n",
        "  gs = [G[i,:][0] for i in range(len(G))]\n",
        "\n",
        "  num_f = sympy.lambdify(varis, f)\n",
        "  num_G = sympy.lambdify(varis, G)\n",
        "\n",
        "  grad_f = Matrix([[diff(f, v) for v in varis]]).T\n",
        "\n",
        "  Jak = Matrix([[diff(g, v) for v in varis] for g in gs])\n",
        "\n",
        "  num_grad_f = sympy.lambdify(varis, grad_f)\n",
        "\n",
        "  num_Jak = sympy.lambdify(varis, Jak)\n",
        "\n",
        "  err = math.inf\n",
        "\n",
        "  x_it = x_0\n",
        "\n",
        "  a, b = x_it[:, 0]\n",
        "\n",
        "  D = (.5)*(LA.inv(num_Jak(a,b).T @ num_Jak(a,b)))\n",
        "\n",
        "  Gr = num_grad_f(a,b)\n",
        "\n",
        "  d = - D @ Gr\n",
        "\n",
        "  it = 0\n",
        "\n",
        "\n",
        "  while err > tol:\n",
        "    a = s\n",
        "    x_next = x_it + a*d\n",
        "    while num_f(a, b) - num_f(x_next[0,0], x_next[1,0]) < - sigma*a*(d.T @ Gr)[0][0]:\n",
        "      a = beta*a\n",
        "      x_next = x_it + a*d\n",
        "\n",
        "    if LA.norm(x_it - x_next) < delta :\n",
        "      err = 0\n",
        "      x_it = x_next\n",
        "      it = it + 1\n",
        "\n",
        "    else:\n",
        "\n",
        "      #update iterates\n",
        "\n",
        "      x_it = x_next\n",
        "      a, b = x_it[:, 0]\n",
        "      Gr = num_grad_f(a,b)\n",
        "      D = (.5)*(LA.inv(num_Jak(a,b).T @ num_Jak(a,b)))\n",
        "      d = - D @ Gr\n",
        "      err = LA.norm(Gr)\n",
        "      it = it + 1\n",
        "\n",
        "  x_star_arm = x_it\n",
        "  a, b = x_star_arm[:, 0]\n",
        "\n",
        "  print('Number of iterations =', it)\n",
        "  print('Approximate solution: x* =', x_star_arm.T)\n",
        "  print('G(x*) =')\n",
        "  print(num_G(a, b))\n",
        "  print('||G(x*)||^2 =', (2*num_f(a,b)))\n",
        "  return(x_star_arm)"
      ],
      "metadata": {
        "id": "nzk7K4X-N2Pf"
      },
      "execution_count": 14,
      "outputs": []
    },
    {
      "cell_type": "code",
      "source": [
        "x_1 = np.array([[1, 0]]).T\n",
        "\n",
        "beta_hat = Gauss_Newtown_Arm2(x_1, H, [x, y], tol, delta, s, beta, sigma)"
      ],
      "metadata": {
        "colab": {
          "base_uri": "https://localhost:8080/"
        },
        "id": "hEMZzjfjON1k",
        "outputId": "caba1ba3-1c29-450d-b121-155597569536"
      },
      "execution_count": 15,
      "outputs": [
        {
          "output_type": "stream",
          "name": "stdout",
          "text": [
            "Number of iterations = 8\n",
            "Approximate solution: x* = [[0.36182618 0.55620536]]\n",
            "G(x*) =\n",
            "[[-0.02686087]\n",
            " [-0.03343325]\n",
            " [ 0.06272165]\n",
            " [-0.02060622]\n",
            " [-0.02231031]\n",
            " [ 0.02947666]\n",
            " [-0.0167174 ]]\n",
            "||G(x*)||^2 = 0.007844005847474413\n"
          ]
        }
      ]
    },
    {
      "cell_type": "code",
      "source": [
        "print(beta_hat)"
      ],
      "metadata": {
        "colab": {
          "base_uri": "https://localhost:8080/"
        },
        "id": "OcVBBVw5ZJuH",
        "outputId": "1c7375dc-f7f0-468b-8ceb-53cb72bd9349"
      },
      "execution_count": 16,
      "outputs": [
        {
          "output_type": "stream",
          "name": "stdout",
          "text": [
            "[[0.36182618]\n",
            " [0.55620536]]\n"
          ]
        }
      ]
    },
    {
      "cell_type": "code",
      "source": [
        "beta_1 = beta_hat[0,0]\n",
        "beta_2 = beta_hat[1,0]\n",
        "\n",
        "L = [num_H(beta_1, beta_2)[i][0]+R[i] for i in range(len(H))]"
      ],
      "metadata": {
        "id": "X8UiqHkKWy9R"
      },
      "execution_count": 17,
      "outputs": []
    },
    {
      "cell_type": "code",
      "source": [
        "plt.figure()\n",
        "plt.scatter(S, R, label = 'data')\n",
        "plt.plot(S, L, label = 'least squares fit', color = 'red')\n",
        "plt.xlabel('subtrate concentration')\n",
        "plt.ylabel('reaction rate')\n",
        "plt.legend()\n",
        "plt.show()"
      ],
      "metadata": {
        "colab": {
          "base_uri": "https://localhost:8080/",
          "height": 449
        },
        "id": "9xOjdki3WiLt",
        "outputId": "e678b1e1-9a4d-4f80-8361-22db8624c685"
      },
      "execution_count": 19,
      "outputs": [
        {
          "output_type": "display_data",
          "data": {
            "text/plain": [
              "<Figure size 640x480 with 1 Axes>"
            ],
            "image/png": "[encoded data removed]"
          },
          "metadata": {}
        }
      ]
    },
    {
      "cell_type": "markdown",
      "source": [
        "Now let's use the Pure Newton method."
      ],
      "metadata": {
        "id": "b3pc9bQ03FSW"
      }
    },
    {
      "cell_type": "code",
      "source": [
        "def pure_newton2(x_0, f, varis, tol):\n",
        "  num_f = sympy.lambdify(varis, f)\n",
        "\n",
        "  grad_f = Matrix([[diff(f, v) for v in varis]]).T\n",
        "\n",
        "  hess_f = hessian(f, varis) #needs to be positive definite\n",
        "\n",
        "  num_grad_f = sympy.lambdify(varis, grad_f)\n",
        "\n",
        "  num_hess_f = sympy.lambdify(varis, hess_f)\n",
        "\n",
        "  a, b = x_0[:,0]\n",
        "\n",
        "  err = math.inf\n",
        "\n",
        "  it = 0\n",
        "\n",
        "  x_it = x_0\n",
        "\n",
        "  while err > tol:\n",
        "    x_next = x_it - LA.inv(num_hess_f(a,b)) @ num_grad_f(a,b) #pure Newton descent direction\n",
        "    x_it = x_next\n",
        "    a, b = x_it[:, 0]\n",
        "    err = LA.norm(num_grad_f(a,b))\n",
        "    it = it + 1\n",
        "\n",
        "  print('Number of iterations =', it)\n",
        "  print('Approximate solution: x* =', x_it.T)\n",
        "  print('f(x*) =', num_f(a,b))"
      ],
      "metadata": {
        "id": "j349fPZz_Fxv"
      },
      "execution_count": 26,
      "outputs": []
    },
    {
      "cell_type": "code",
      "source": [
        "f_1 = x**2 + (1/100)*y**2 #condition number of f we saw is 100\n",
        "\n",
        "x_0 = np.array([[1/100, 1]]).T\n",
        "pure_newton2(x_0, f_1, [x, y], tol)"
      ],
      "metadata": {
        "colab": {
          "base_uri": "https://localhost:8080/"
        },
        "id": "xiWSjaFiCwvV",
        "outputId": "636e2c10-43be-42cb-a371-136e516f9205"
      },
      "execution_count": 22,
      "outputs": [
        {
          "output_type": "stream",
          "name": "stdout",
          "text": [
            "Number of iterations = 1\n",
            "Approximate solution: x* = [[0. 0.]]\n",
            "f(x*) = 0.0\n"
          ]
        }
      ]
    },
    {
      "cell_type": "code",
      "source": [
        "def pure_newton3(x_0, f, varis, tol):\n",
        "  num_f = sympy.lambdify(varis, f)\n",
        "\n",
        "  grad_f = Matrix([[diff(f, v) for v in varis]]).T\n",
        "\n",
        "  hess_f = hessian(f, varis)\n",
        "\n",
        "  num_grad_f = sympy.lambdify(varis, grad_f)\n",
        "\n",
        "  num_hess_f = sympy.lambdify(varis, hess_f)\n",
        "\n",
        "  a, b, c = x_0[:,0]\n",
        "\n",
        "  err = math.inf\n",
        "\n",
        "  it = 0\n",
        "\n",
        "  x_it = x_0\n",
        "\n",
        "  while err > tol:\n",
        "    x_next = x_it - LA.inv(num_hess_f(a,b,c)) @ num_grad_f(a,b,c)\n",
        "    x_it = x_next\n",
        "    a, b, c = x_it[:, 0]\n",
        "    err = LA.norm(num_grad_f(a,b,c))\n",
        "    it = it + 1\n",
        "\n",
        "  print('Number of iterations =', it)\n",
        "  print('Approximate solution: x* =', x_it.T)\n",
        "  print('f(x*) =', num_f(a,b,c))\n",
        "  return(x_it.T)"
      ],
      "metadata": {
        "id": "VckLfoipE4cj"
      },
      "execution_count": 24,
      "outputs": []
    },
    {
      "cell_type": "code",
      "source": [
        "x_0 = np.array([[1,1]]).T\n",
        "\n",
        "f = 100*x**4 +(.01)* y**4\n",
        "\n",
        "x_star = pure_newton2(x_0, f, [x, y], 10**(-8))"
      ],
      "metadata": {
        "colab": {
          "base_uri": "https://localhost:8080/"
        },
        "id": "T44x-NYKQxXQ",
        "outputId": "3f7cca8c-6fe8-44ec-ab22-bc0979f813c6"
      },
      "execution_count": 29,
      "outputs": [
        {
          "output_type": "stream",
          "name": "stdout",
          "text": [
            "Number of iterations = 21\n",
            "Approximate solution: x* = [[0.00020049 0.00020049]]\n",
            "f(x*) = 1.6157630289181907e-13\n"
          ]
        }
      ]
    },
    {
      "cell_type": "markdown",
      "source": [
        "Pure Newton will converge if we give it this sum of radicals and a starting point outside the unit circle."
      ],
      "metadata": {
        "id": "FOPCzoJL68ch"
      }
    },
    {
      "cell_type": "code",
      "source": [
        "f = sympy.sqrt(1 + x**2) + sympy.sqrt(1 + y**2)\n",
        "\n",
        "print(f)"
      ],
      "metadata": {
        "colab": {
          "base_uri": "https://localhost:8080/"
        },
        "id": "oZoV3FF86cFV",
        "outputId": "8916241e-2b01-4c25-8b90-372a0babbea6"
      },
      "execution_count": 30,
      "outputs": [
        {
          "output_type": "stream",
          "name": "stdout",
          "text": [
            "sqrt(x**2 + 1) + sqrt(y**2 + 1)\n"
          ]
        }
      ]
    },
    {
      "cell_type": "code",
      "source": [
        "x_0 = np.array([[.5, .5]]).T #we need a < 1 and b < 1\n",
        "\n",
        "x_star = pure_newton2(x_0, f, [x, y], 10**(-5))"
      ],
      "metadata": {
        "colab": {
          "base_uri": "https://localhost:8080/"
        },
        "id": "yHlOIGrN6jn_",
        "outputId": "2f7cb188-5a3f-4822-853c-f6d30e8f3f98"
      },
      "execution_count": 32,
      "outputs": [
        {
          "output_type": "stream",
          "name": "stdout",
          "text": [
            "Number of iterations = 3\n",
            "Approximate solution: x* = [[-7.4505806e-09 -7.4505806e-09]]\n",
            "f(x*) = 2.0\n"
          ]
        }
      ]
    },
    {
      "cell_type": "markdown",
      "source": [
        "Let's experiment with Cholesky factorization."
      ],
      "metadata": {
        "id": "IZ3Nm0FSLuCx"
      }
    },
    {
      "cell_type": "code",
      "source": [
        "A = np.array([[2, -1], [-1, 3]])\n",
        "\n",
        "L = LA.cholesky(A)\n",
        "\n",
        "print(L)\n",
        "\n",
        "print(L @ L.T)"
      ],
      "metadata": {
        "colab": {
          "base_uri": "https://localhost:8080/"
        },
        "id": "JP5x22X6UEoq",
        "outputId": "177ef65f-7920-49f8-8013-6e093838603b"
      },
      "execution_count": null,
      "outputs": [
        {
          "output_type": "stream",
          "name": "stdout",
          "text": [
            "[[ 1.41421356  0.        ]\n",
            " [-0.70710678  1.58113883]]\n",
            "[[ 2. -1.]\n",
            " [-1.  3.]]\n"
          ]
        }
      ]
    },
    {
      "cell_type": "code",
      "source": [
        "(U, p) = sp.linalg.lapack.dpotrf(A) #p=0 means A is p.d.\n",
        "\n",
        "print(U)\n",
        "print(p)\n",
        "\n",
        "print(U.T @ U) #LL^T = U^T U since U = L^T"
      ],
      "metadata": {
        "colab": {
          "base_uri": "https://localhost:8080/"
        },
        "id": "w03kuFnZU_U-",
        "outputId": "6e13e521-0fe1-4f6e-e85b-671cb6c45e3e"
      },
      "execution_count": null,
      "outputs": [
        {
          "output_type": "stream",
          "name": "stdout",
          "text": [
            "[[ 1.41421356 -0.70710678]\n",
            " [ 0.          1.58113883]]\n",
            "0\n",
            "[[ 2. -1.]\n",
            " [-1.  3.]]\n"
          ]
        }
      ]
    },
    {
      "cell_type": "markdown",
      "source": [
        "Now let's create a hybrid gradient-Newton method."
      ],
      "metadata": {
        "id": "NbjpfMbiL0CL"
      }
    },
    {
      "cell_type": "code",
      "source": [
        "def HGN(x_0, f, varis, tol, s, beta, sigma):\n",
        "  num_f = sympy.lambdify(varis, f)\n",
        "\n",
        "  grad_f = Matrix([[diff(f, v) for v in varis]]).T\n",
        "\n",
        "  hess_f = hessian(f, varis)\n",
        "\n",
        "  num_grad_f = sympy.lambdify(varis, grad_f)\n",
        "\n",
        "  num_hess = sympy.lambdify(varis, hess_f)\n",
        "\n",
        "  err = math.inf\n",
        "\n",
        "  x_it = x_0\n",
        "\n",
        "  a,b = x_it[:, 0]\n",
        "\n",
        "  it = 0\n",
        "\n",
        "  while err > tol:\n",
        "    Gr = num_grad_f(a,b)\n",
        "\n",
        "    (U, p) = sp.linalg.lapack.dpotrf(num_hess(a,b))\n",
        "\n",
        "    #choose descent direction\n",
        "\n",
        "    if p == 0: # Hessian is positive definite\n",
        "      A = LA.inv(U)\n",
        "      d = - A @ A.T @ num_grad_f(a,b)\n",
        "\n",
        "    else: #Hessian is not p.d.\n",
        "      d = - Gr\n",
        "\n",
        "    alpha = s\n",
        "    x_next = x_it + alpha*d\n",
        "\n",
        "    while num_f(a, b) - num_f(x_next[0,0], x_next[1,0]) < - sigma*alpha*(d.T @ Gr)[0][0]:\n",
        "      alpha = beta*alpha\n",
        "      x_next = x_it + alpha*d\n",
        "\n",
        "      #update iterates\n",
        "\n",
        "    x_it = x_next\n",
        "    a, b = x_it[:, 0]\n",
        "    Gr = num_grad_f(a,b)\n",
        "    err = LA.norm(Gr)\n",
        "    it = it + 1\n",
        "\n",
        "  x_star_arm = x_it\n",
        "  a, b = x_star_arm[:, 0]\n",
        "\n",
        "  print('Number of iterations =', it)\n",
        "  print('Approximate solution: x* =', x_star_arm.T)\n",
        "  print('f(x*) =', num_f(a,b))\n",
        "  return(x_star_arm)\n"
      ],
      "metadata": {
        "id": "BGmwnE0AEZ4U"
      },
      "execution_count": 36,
      "outputs": []
    },
    {
      "cell_type": "markdown",
      "source": [
        "Let's try Hybrid gradient-Newton on the Rosenbrock function"
      ],
      "metadata": {
        "id": "MQk8dONPLapk"
      }
    },
    {
      "cell_type": "code",
      "source": [
        "f = 100*(y-x**2)**2 + (1-x)**2\n",
        "\n",
        "print(f)"
      ],
      "metadata": {
        "colab": {
          "base_uri": "https://localhost:8080/"
        },
        "id": "0mYzc6zfJjvJ",
        "outputId": "76dbc126-4d7b-49d3-fb29-47b450b1df03"
      },
      "execution_count": 34,
      "outputs": [
        {
          "output_type": "stream",
          "name": "stdout",
          "text": [
            "(1 - x)**2 + 100*(-x**2 + y)**2\n"
          ]
        }
      ]
    },
    {
      "cell_type": "code",
      "source": [
        "x_0 = np.array([[2, 4]]).T\n",
        "\n",
        "x_star = HGN(x_0, f, [x, y], 10**(-5), 1, .25, .5)"
      ],
      "metadata": {
        "colab": {
          "base_uri": "https://localhost:8080/"
        },
        "id": "G1DX4oETKL_5",
        "outputId": "42d4ee06-5800-4258-e9cd-8b20ff7fc6e6"
      },
      "execution_count": 39,
      "outputs": [
        {
          "output_type": "stream",
          "name": "stdout",
          "text": [
            "Number of iterations = 22\n",
            "Approximate solution: x* = [[1. 1.]]\n",
            "f(x*) = 2.9920407392854374e-21\n"
          ]
        }
      ]
    },
    {
      "cell_type": "code",
      "source": [
        "x_star = pure_newton2(x_0, f, [x, y], 10**(-5))"
      ],
      "metadata": {
        "colab": {
          "base_uri": "https://localhost:8080/"
        },
        "id": "I_sa88bz7Vlz",
        "outputId": "78900d2b-359c-41ac-85ff-93bc4b4e04de"
      },
      "execution_count": 40,
      "outputs": [
        {
          "output_type": "stream",
          "name": "stdout",
          "text": [
            "Number of iterations = 2\n",
            "Approximate solution: x* = [[1. 1.]]\n",
            "f(x*) = 8.475829714485653e-27\n"
          ]
        }
      ]
    },
    {
      "cell_type": "markdown",
      "source": [
        "Now let's try hybrid gradient-Newton of this sum of radicals."
      ],
      "metadata": {
        "id": "9KqIcnByLl62"
      }
    },
    {
      "cell_type": "code",
      "source": [
        "f = sympy.sqrt(1 + x**2) + sympy.sqrt(1 + y**2)\n",
        "\n",
        "print(f)"
      ],
      "metadata": {
        "colab": {
          "base_uri": "https://localhost:8080/"
        },
        "id": "kVEmtOViK2Vw",
        "outputId": "0adf7098-46f0-4e8c-8cf9-fab970fe01fe"
      },
      "execution_count": 41,
      "outputs": [
        {
          "output_type": "stream",
          "name": "stdout",
          "text": [
            "sqrt(x**2 + 1) + sqrt(y**2 + 1)\n"
          ]
        }
      ]
    },
    {
      "cell_type": "code",
      "source": [
        "x_0 = np.array([[1, 1]]).T\n",
        "\n",
        "x_star = HGN(x_0, f, [x, y], 10**(-5), 1, .25, .25)"
      ],
      "metadata": {
        "colab": {
          "base_uri": "https://localhost:8080/"
        },
        "id": "IRN4EcGmLGDW",
        "outputId": "b75095e3-1e2c-401e-df74-7e4de65dfd75"
      },
      "execution_count": 43,
      "outputs": [
        {
          "output_type": "stream",
          "name": "stdout",
          "text": [
            "Number of iterations = 4\n",
            "Approximate solution: x* = [[-7.4505806e-09 -7.4505806e-09]]\n",
            "f(x*) = 2.0\n"
          ]
        }
      ]
    },
    {
      "cell_type": "code",
      "source": [
        "x_0 = np.array([[1,1]]).T\n",
        "\n",
        "f = 100*x**4 +(.01)* y**4\n",
        "\n",
        "x_star = HGN(x_0, f, [x, y], 10**(-5), 1, .25, .5)"
      ],
      "metadata": {
        "colab": {
          "base_uri": "https://localhost:8080/"
        },
        "id": "-taAeUvN7xbQ",
        "outputId": "1657b862-f2ed-4b4e-c8ad-ef9b7afd522a"
      },
      "execution_count": 44,
      "outputs": [
        {
          "output_type": "stream",
          "name": "stdout",
          "text": [
            "Number of iterations = 15\n",
            "Approximate solution: x* = [[0.00228366 0.00228366]]\n",
            "f(x*) = 2.7199936111003318e-09\n"
          ]
        }
      ]
    },
    {
      "cell_type": "markdown",
      "source": [
        "Now let's implement a modified hessian method."
      ],
      "metadata": {
        "id": "LJ96qa6Js_BI"
      }
    },
    {
      "cell_type": "code",
      "source": [
        "def mod_hess2(x_0, f, varis, tol, delta, s, beta, sigma):\n",
        "  n = len(varis)\n",
        "\n",
        "  num_f = sympy.lambdify(varis, f)\n",
        "\n",
        "  grad_f = Matrix([[diff(f, v) for v in varis]]).T\n",
        "\n",
        "  hess_f = hessian(f, varis)\n",
        "\n",
        "  num_grad_f = sympy.lambdify(varis, grad_f)\n",
        "\n",
        "  num_hess = sympy.lambdify(varis, hess_f)\n",
        "\n",
        "  err = math.inf\n",
        "\n",
        "  x_it = x_0\n",
        "\n",
        "  a,b = x_it[:, 0]\n",
        "\n",
        "  Gr = num_grad_f(a,b)\n",
        "\n",
        "  it = 0\n",
        "\n",
        "  while err > tol:\n",
        "\n",
        "    H = num_hess(a,b)\n",
        "\n",
        "    #choose descent direction\n",
        "\n",
        "    V, P = LA.eig(H) #V is an array with the eigenvalues of the Hessian\n",
        "\n",
        "    if any(v < 0 for v in V):\n",
        "      tau = min(0, delta - min(V))\n",
        "      H = H + tau*np.identity(n)\n",
        "\n",
        "    d = - LA.inv(H) @ Gr\n",
        "\n",
        "    alpha = s\n",
        "    x_next = x_it + alpha*d\n",
        "\n",
        "    #perform Armijo backtracking\n",
        "\n",
        "    while num_f(a, b) - num_f(x_next[0,0], x_next[1,0]) < - sigma*alpha*(d.T @ Gr)[0][0]:\n",
        "      alpha = beta*alpha\n",
        "      x_next = x_it + alpha*d\n",
        "\n",
        "      #update iterates\n",
        "\n",
        "    x_it = x_next\n",
        "    a, b = x_it[:, 0]\n",
        "    Gr = num_grad_f(a,b)\n",
        "    err = LA.norm(Gr)\n",
        "    it = it + 1\n",
        "\n",
        "  x_star_arm = x_it\n",
        "  a, b = x_star_arm[:, 0]\n",
        "\n",
        "  print('Number of iterations =', it)\n",
        "  print('Approximate solution: x* =', x_star_arm.T)\n",
        "  print('f(x*) =', num_f(a,b))\n",
        "  return(x_star_arm)"
      ],
      "metadata": {
        "id": "wQuSvOaUtFvh"
      },
      "execution_count": 45,
      "outputs": []
    },
    {
      "cell_type": "code",
      "source": [
        "f = 100*(y-x**2)**2 + (1-x)**2\n",
        "\n",
        "print(f)"
      ],
      "metadata": {
        "colab": {
          "base_uri": "https://localhost:8080/"
        },
        "id": "0z2KNuHv1ZDJ",
        "outputId": "570745da-ecf1-4300-ff1f-08e3a6a2d6d1"
      },
      "execution_count": 46,
      "outputs": [
        {
          "output_type": "stream",
          "name": "stdout",
          "text": [
            "(1 - x)**2 + 100*(-x**2 + y)**2\n"
          ]
        }
      ]
    },
    {
      "cell_type": "code",
      "source": [
        "x_0 = np.array([[2, 4]]).T\n",
        "\n",
        "x_star = mod_hess2(x_0, f, [x, y], 10**(-5), 10**(-5), 1, .25, .5)"
      ],
      "metadata": {
        "colab": {
          "base_uri": "https://localhost:8080/"
        },
        "id": "IS2Y_-Lg1aR5",
        "outputId": "b5b3b59b-e086-4933-dfb3-5705fecc1e1c"
      },
      "execution_count": 54,
      "outputs": [
        {
          "output_type": "stream",
          "name": "stdout",
          "text": [
            "Number of iterations = 22\n",
            "Approximate solution: x* = [[1. 1.]]\n",
            "f(x*) = 2.9920407392854374e-21\n"
          ]
        }
      ]
    },
    {
      "cell_type": "code",
      "source": [
        "x_star = mod_hess2(x_0, f, [x, y], 10**(-5), 10**(-5), 1, .5, .25)"
      ],
      "metadata": {
        "colab": {
          "base_uri": "https://localhost:8080/"
        },
        "id": "pHkAegC72WlM",
        "outputId": "5f39364d-8700-4b92-e16b-99a6fafa2820"
      },
      "execution_count": null,
      "outputs": [
        {
          "output_type": "stream",
          "name": "stdout",
          "text": [
            "Number of iterations = 2\n",
            "Approximate solution: x* = [[1. 1.]]\n",
            "f(x*) = 8.475829714485653e-27\n"
          ]
        }
      ]
    },
    {
      "cell_type": "code",
      "source": [
        "f = sympy.sqrt(1 + x**2) + sympy.sqrt(1 + y**2)\n",
        "\n",
        "print(f)"
      ],
      "metadata": {
        "colab": {
          "base_uri": "https://localhost:8080/"
        },
        "id": "zPy7SELJ21oy",
        "outputId": "b4d0e581-bd99-4407-886c-89b6473abd97"
      },
      "execution_count": 55,
      "outputs": [
        {
          "output_type": "stream",
          "name": "stdout",
          "text": [
            "sqrt(x**2 + 1) + sqrt(y**2 + 1)\n"
          ]
        }
      ]
    },
    {
      "cell_type": "code",
      "source": [
        "x_0 = np.array([[1, 1]]).T\n",
        "\n",
        "x_star = mod_hess2(x_0, f, [x, y], 10**(-5), 10**(-5), 1, .5, .25)"
      ],
      "metadata": {
        "colab": {
          "base_uri": "https://localhost:8080/"
        },
        "id": "4N-lbtzb28Lh",
        "outputId": "273824d8-d9a7-4bf8-ee52-29209839c41e"
      },
      "execution_count": 57,
      "outputs": [
        {
          "output_type": "stream",
          "name": "stdout",
          "text": [
            "Number of iterations = 1\n",
            "Approximate solution: x* = [[0. 0.]]\n",
            "f(x*) = 2.0\n"
          ]
        }
      ]
    },
    {
      "cell_type": "code",
      "source": [
        "Q = np.array([[6, 0, 4], [0, 2, 0], [4, 0, 8]])"
      ],
      "metadata": {
        "id": "sdMD00iWFRlv"
      },
      "execution_count": 58,
      "outputs": []
    },
    {
      "cell_type": "code",
      "source": [
        "def gram_schmidt(Q): #applies gram-schmidt using the standard basis for R^n\n",
        "  n = len(Q)\n",
        "  V = []\n",
        "  U = []\n",
        "  I = np.identity(n)\n",
        "  for i in range(n):\n",
        "    V.append(I[:, i])\n",
        "\n",
        "  U.append(V[0])\n",
        "\n",
        "  for i in range(1, n):\n",
        "    sum = np.zeros((n,1))\n",
        "    for k in range(i):\n",
        "      sum = sum + ((V[i].T @ Q @ U[k])/(U[k].T @ Q @ U[k]))*U[k]\n",
        "    U.append(V[i] - sum)\n",
        "\n",
        "  return(U)"
      ],
      "metadata": {
        "id": "FwlSWXr4Fu5U"
      },
      "execution_count": 59,
      "outputs": []
    },
    {
      "cell_type": "code",
      "source": [
        "def proj(Q, u, v): #projection of v onto u.\n",
        "  return(((v.T @ Q @ u)/(u.T @ Q @ u))*u)"
      ],
      "metadata": {
        "id": "ZgPo_jCmMaVv"
      },
      "execution_count": 60,
      "outputs": []
    },
    {
      "cell_type": "code",
      "source": [
        "V = np.identity(3)\n",
        "U = np.zeros((3,3))\n",
        "\n",
        "U[:, 0] = V[:, 0]\n",
        "\n",
        "U[:, 1] = V[:, 1] - proj(Q, U[:, 0], V[:, 1])\n",
        "\n",
        "U[:, 2] = V[:, 2] - proj(Q, U[:, 0], V[:, 2]) - proj(Q, U[:, 1], V[:, 2])\n",
        "\n",
        "print(U)\n"
      ],
      "metadata": {
        "id": "scVJZn2VKB-V",
        "colab": {
          "base_uri": "https://localhost:8080/"
        },
        "outputId": "6bf33736-897b-481f-9b07-8f6699c6260f"
      },
      "execution_count": 61,
      "outputs": [
        {
          "output_type": "stream",
          "name": "stdout",
          "text": [
            "[[ 1.          0.         -0.66666667]\n",
            " [ 0.          1.          0.        ]\n",
            " [ 0.          0.          1.        ]]\n"
          ]
        }
      ]
    },
    {
      "cell_type": "code",
      "source": [
        "print(proj(Q, U[:, 0], U[:, 2]))"
      ],
      "metadata": {
        "id": "A2zzOucrNaI1"
      },
      "execution_count": null,
      "outputs": []
    },
    {
      "cell_type": "code",
      "source": [
        "def gram_schmidt(Q, V): #creates Q-conjugate vectors from the columns of V.\n",
        "  n = len(Q)\n",
        "  U = V\n",
        "\n",
        "  for i in range(1, n):\n",
        "    for k in range(i):\n",
        "      U[:, i] = U[:, i] - proj(Q, U[:, k], V[:, i])\n",
        "\n",
        "  return(U)"
      ],
      "metadata": {
        "id": "LZfjFQEfOUUh"
      },
      "execution_count": null,
      "outputs": []
    },
    {
      "cell_type": "code",
      "source": [
        "U_test = gram_schmidt(Q, np.identity(3))\n",
        "\n",
        "print(U_test)"
      ],
      "metadata": {
        "id": "XA1BLIryPk08"
      },
      "execution_count": null,
      "outputs": []
    },
    {
      "cell_type": "code",
      "source": [
        "A = np.array([[2, 0], [0, 16]])\n",
        "\n",
        "U_A = gram_schmidt(A, np.identity(2))\n",
        "\n",
        "print(U_A)"
      ],
      "metadata": {
        "colab": {
          "base_uri": "https://localhost:8080/"
        },
        "id": "NRLfn1CRQC9g",
        "outputId": "99b54df6-d0cf-4477-ebb8-4bea377edf3f"
      },
      "execution_count": null,
      "outputs": [
        {
          "output_type": "stream",
          "name": "stdout",
          "text": [
            "[[1. 0.]\n",
            " [0. 1.]]\n"
          ]
        }
      ]
    },
    {
      "cell_type": "code",
      "source": [
        "def conjugate_gradient(x_0, Q, b):\n",
        "  n = len(Q)\n",
        "  x = x_0\n",
        "\n",
        "  for i in range(n):\n",
        "    if i == 0:\n",
        "      g = Q @ x - b\n",
        "      d = -g\n",
        "    else:\n",
        "      x = x_next\n",
        "      g = g_next\n",
        "      d = d_next\n",
        "    alpha = -(g.T @ d)/(d.T @ Q @ d)\n",
        "    x_next = x + alpha * d\n",
        "    g_next = Q @ x_next - b\n",
        "    beta = (g_next.T @ Q @ d)/(d.T @ Q @ d)\n",
        "    d_next = -g_next + beta*d #this gives us Q-conjugate descent directions\n",
        "\n",
        "  x = x_next\n",
        "  print('x* =', x.T)\n",
        "  print('f(x*) =', (.5*(x.T @ Q @ x) - b.T @ x)[0,0])\n",
        "\n",
        "  return(x)\n"
      ],
      "metadata": {
        "id": "gTXMSR1pRHl8"
      },
      "execution_count": 63,
      "outputs": []
    },
    {
      "cell_type": "code",
      "source": [
        "x_0 = np.array([[2, 1]]).T\n",
        "\n",
        "A = np.array([[2, 0], [0, 16]])\n",
        "\n",
        "b = np.array([[0, 0]]).T\n",
        "\n",
        "c = 0\n",
        "\n",
        "x_star = conjugate_gradient(x_0, A, b)"
      ],
      "metadata": {
        "colab": {
          "base_uri": "https://localhost:8080/"
        },
        "id": "9F_ySRdRUoO1",
        "outputId": "ac322dd1-4d30-4799-c34b-664c997e3a9c"
      },
      "execution_count": 64,
      "outputs": [
        {
          "output_type": "stream",
          "name": "stdout",
          "text": [
            "x* = [[-2.22044605e-16 -1.11022302e-16]]\n",
            "f(x*) = 1.4791141972893971e-31\n"
          ]
        }
      ]
    },
    {
      "cell_type": "code",
      "source": [
        "Q = np.array([[8, 0, -4], [0, 2, 2], [-4, 2, 6]])\n",
        "\n",
        "b = np.array([[4, -2, 0]]).T\n",
        "\n",
        "x_0 = np.array([[-2, 0, -2]]).T\n",
        "\n",
        "x_star = conjugate_gradient(x_0, Q, b)"
      ],
      "metadata": {
        "colab": {
          "base_uri": "https://localhost:8080/"
        },
        "id": "O8lGHfASbF9G",
        "outputId": "7051a421-935f-4ef1-d2dc-d70b8357c661"
      },
      "execution_count": 65,
      "outputs": [
        {
          "output_type": "stream",
          "name": "stdout",
          "text": [
            "x* = [[ 1.5 -3.   2. ]]\n",
            "f(x*) = -6.000000000000001\n"
          ]
        }
      ]
    }
  ]
}