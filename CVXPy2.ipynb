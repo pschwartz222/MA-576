{
  "nbformat": 4,
  "nbformat_minor": 0,
  "metadata": {
    "colab": {
      "provenance": [],
      "authorship_tag": "ABX9TyONCBfojTvhENaLFI3483G+",
      "include_colab_link": true
    },
    "kernelspec": {
      "name": "python3",
      "display_name": "Python 3"
    },
    "language_info": {
      "name": "python"
    }
  },
  "cells": [
    {
      "cell_type": "markdown",
      "metadata": {
        "id": "view-in-github",
        "colab_type": "text"
      },
      "source": [
        "<a href=\"https://colab.research.google.com/github/pschwartz222/MA-576/blob/main/CVXPy2.ipynb\" target=\"_parent\"><img src=\"https://colab.research.google.com/assets/colab-badge.svg\" alt=\"Open In Colab\"/></a>"
      ]
    },
    {
      "cell_type": "code",
      "execution_count": 1,
      "metadata": {
        "id": "I3A9K-oiyot7"
      },
      "outputs": [],
      "source": [
        "import cvxpy as cp\n",
        "import numpy as np\n",
        "from numpy import linalg as LA"
      ]
    },
    {
      "cell_type": "code",
      "source": [
        "Q = np.array([[2, -1], [-1, 1]])\n",
        "\n",
        "c = np.array([-1, -1]).T\n",
        "\n",
        "z = np.zeros(2)\n",
        "\n",
        "v = np.ones(2)\n",
        "\n",
        "x = cp.Variable(2)"
      ],
      "metadata": {
        "id": "VzFc3uA6yv65"
      },
      "execution_count": 2,
      "outputs": []
    },
    {
      "cell_type": "code",
      "source": [
        "y = x-c"
      ],
      "metadata": {
        "id": "XK8t6Ro30zI5"
      },
      "execution_count": 3,
      "outputs": []
    },
    {
      "cell_type": "code",
      "source": [
        "prob = cp.Problem(cp.Minimize(cp.quad_form(y, Q)),\n",
        " [x >= z])"
      ],
      "metadata": {
        "id": "0bdmkXRNzHpy"
      },
      "execution_count": 4,
      "outputs": []
    },
    {
      "cell_type": "code",
      "source": [
        "prob.solve()\n",
        "\n",
        "# Print result.\n",
        "print(\"\\nThe optimal value is\", prob.value)\n",
        "print(\"A solution x is\")\n",
        "print(x.value)"
      ],
      "metadata": {
        "colab": {
          "base_uri": "https://localhost:8080/"
        },
        "id": "N8e0kJGh1b8z",
        "outputId": "a03d1de7-62db-4257-b36b-1eccd18cecbf"
      },
      "execution_count": 5,
      "outputs": [
        {
          "output_type": "stream",
          "name": "stdout",
          "text": [
            "\n",
            "The optimal value is 1.0\n",
            "A solution x is\n",
            "[-1.11021107e-21  1.01479779e-21]\n"
          ]
        }
      ]
    },
    {
      "cell_type": "code",
      "source": [
        "c = np.array([1, 1])\n",
        "y = x-c"
      ],
      "metadata": {
        "id": "cNLBbmF91jVY"
      },
      "execution_count": null,
      "outputs": []
    },
    {
      "cell_type": "code",
      "source": [
        "prob = cp.Problem(cp.Minimize(cp.quad_form(y, Q)),\n",
        " [x >= z])\n",
        "\n",
        "prob.solve()\n",
        "\n",
        "# Print result.\n",
        "print(\"\\nThe optimal value is\", prob.value)\n",
        "print(\"A solution x is\")\n",
        "print(x.value)"
      ],
      "metadata": {
        "colab": {
          "base_uri": "https://localhost:8080/"
        },
        "id": "DLeo1JAw1qo5",
        "outputId": "11839f44-217d-4b6c-b7b3-0f5ab3255a5e"
      },
      "execution_count": null,
      "outputs": [
        {
          "output_type": "stream",
          "name": "stdout",
          "text": [
            "\n",
            "The optimal value is 0.0\n",
            "A solution x is\n",
            "[1. 1.]\n"
          ]
        }
      ]
    },
    {
      "cell_type": "code",
      "source": [
        "c = np.array([.5, -1])\n",
        "y = x-c\n",
        "\n",
        "prob = cp.Problem(cp.Minimize(cp.quad_form(y, Q)),\n",
        " [x >= z])\n",
        "\n",
        "prob.solve()\n",
        "\n",
        "# Print result.\n",
        "print(\"\\nThe optimal value is\", prob.value)\n",
        "print(\"A solution x is\")\n",
        "print(x.value)"
      ],
      "metadata": {
        "colab": {
          "base_uri": "https://localhost:8080/"
        },
        "id": "0K4dubPN1xTd",
        "outputId": "f94d24ec-28f3-4b9e-b240-69de72ada2b5"
      },
      "execution_count": null,
      "outputs": [
        {
          "output_type": "stream",
          "name": "stdout",
          "text": [
            "\n",
            "The optimal value is 0.5\n",
            "A solution x is\n",
            "[ 1.00000000e+00 -1.57008919e-22]\n"
          ]
        }
      ]
    },
    {
      "cell_type": "code",
      "source": [
        "c = np.array([-1, -1])\n",
        "\n",
        "y = x-c\n",
        "\n",
        "prob = cp.Problem(cp.Minimize(cp.quad_form(y, Q)),\n",
        " [v @ x == 1])\n",
        "\n",
        "prob.solve()\n",
        "\n",
        "# Print result.\n",
        "print(\"\\nThe optimal value is\", prob.value)\n",
        "print(\"A solution x is\")\n",
        "print(x.value)"
      ],
      "metadata": {
        "colab": {
          "base_uri": "https://localhost:8080/"
        },
        "id": "BEYNKntY2GE7",
        "outputId": "39ec2fef-cbd5-4bc0-8fb9-83c34e2c787c"
      },
      "execution_count": null,
      "outputs": [
        {
          "output_type": "stream",
          "name": "stdout",
          "text": [
            "\n",
            "The optimal value is 1.8000000000000003\n",
            "A solution x is\n",
            "[0.2 0.8]\n"
          ]
        }
      ]
    },
    {
      "cell_type": "code",
      "source": [
        "prob = cp.Problem(cp.Minimize(cp.quad_form(y,Q)),\n",
        " [cp.norm(x)**2 <=1])\n",
        "\n",
        "prob.solve()\n",
        "\n",
        "# Print result.\n",
        "print(\"\\nThe optimal value is\", prob.value)\n",
        "print(\"A solution x is\")\n",
        "print(x.value)"
      ],
      "metadata": {
        "colab": {
          "base_uri": "https://localhost:8080/"
        },
        "id": "XHXu7wSp2Z2a",
        "outputId": "e2986caf-aa8e-4fa3-8565-07df8d3ca9d9"
      },
      "execution_count": null,
      "outputs": [
        {
          "output_type": "stream",
          "name": "stdout",
          "text": [
            "\n",
            "The optimal value is 0.0697166938544521\n",
            "A solution x is\n",
            "[-0.76020736 -0.64968052]\n"
          ]
        }
      ]
    }
  ]
}