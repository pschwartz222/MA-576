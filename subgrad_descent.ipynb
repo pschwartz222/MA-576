{
  "nbformat": 4,
  "nbformat_minor": 0,
  "metadata": {
    "colab": {
      "provenance": [],
      "authorship_tag": "ABX9TyOsU8ahR1SIIDEYOGWGbTqt",
      "include_colab_link": true
    },
    "kernelspec": {
      "name": "python3",
      "display_name": "Python 3"
    },
    "language_info": {
      "name": "python"
    }
  },
  "cells": [
    {
      "cell_type": "markdown",
      "metadata": {
        "id": "view-in-github",
        "colab_type": "text"
      },
      "source": [
        "<a href=\"https://colab.research.google.com/github/pschwartz222/MA-576/blob/main/subgrad_descent.ipynb\" target=\"_parent\"><img src=\"https://colab.research.google.com/assets/colab-badge.svg\" alt=\"Open In Colab\"/></a>"
      ]
    },
    {
      "cell_type": "code",
      "execution_count": 1,
      "metadata": {
        "id": "LgnK_tgeqZV0"
      },
      "outputs": [],
      "source": [
        "import numpy as np\n",
        "from numpy.linalg import eig\n",
        "from numpy import linalg as LA\n",
        "import matplotlib.pyplot as plt\n",
        "import sympy\n",
        "from matplotlib import cm\n",
        "from mpl_toolkits.mplot3d import Axes3D\n",
        "from sympy import diff, symbols\n",
        "import pylab\n",
        "import math\n",
        "from sympy import cos, sin, exp, Matrix, hessian"
      ]
    },
    {
      "cell_type": "code",
      "source": [
        "def f(v):\n",
        "  x, y = v[:, 0]\n",
        "  return(x+y + max(0, x**2+y**2-4))"
      ],
      "metadata": {
        "id": "mMARTSCirU4M"
      },
      "execution_count": 2,
      "outputs": []
    },
    {
      "cell_type": "code",
      "source": [
        "def sg(v): #calculates the steepest subgradient of f at v\n",
        "  x, y = v[:, 0]\n",
        "\n",
        "  if x**2 + y**2 - 4 == 0:\n",
        "    if x+y > 0:\n",
        "      alpha = 0\n",
        "    else:\n",
        "      alpha = -(x+y)/(2*(x**2 + y**2))\n",
        "    g = np.array([[2*alpha*x+1, 2*alpha*y+1]]).T\n",
        "  if x**2 + y**2 - 4 > 0:\n",
        "    g = np.array([[2*x+1, 2*y+1]]).T\n",
        "  if x**2 + y**2 - 4 < 0:\n",
        "    g = np.array([[1, 1]]).T\n",
        "  return(g)"
      ],
      "metadata": {
        "id": "FNhHD9mPtGqC"
      },
      "execution_count": 3,
      "outputs": []
    },
    {
      "cell_type": "code",
      "source": [
        "print(sg(np.array([[0,-2]]).T))"
      ],
      "metadata": {
        "colab": {
          "base_uri": "https://localhost:8080/"
        },
        "id": "QLMxEmJGzovY",
        "outputId": "24ab4fcd-f3c4-451c-8558-9f3a4d80415f"
      },
      "execution_count": 4,
      "outputs": [
        {
          "output_type": "stream",
          "name": "stdout",
          "text": [
            "[[1.]\n",
            " [0.]]\n"
          ]
        }
      ]
    },
    {
      "cell_type": "code",
      "source": [
        "def subgrad_descent(x_0, tol, cap, kcap):\n",
        "  err = math.inf\n",
        "\n",
        "  it = 0\n",
        "\n",
        "  x = x_0\n",
        "\n",
        "  x_best = x_0\n",
        "\n",
        "  while (it < cap) and (err > tol):\n",
        "    d = -sg(x)\n",
        "    if LA.norm(d) == 0:\n",
        "      err = tol\n",
        "    else:\n",
        "      k = min(it + 2, kcap)\n",
        "      x_new = x+(1/(k))*d/LA.norm(d)\n",
        "      err = LA.norm(x - x_new)\n",
        "      x = x_new\n",
        "      if f(x) < f(x_best):\n",
        "        x_best = x\n",
        "      it = it + 1\n",
        "\n",
        "  print('number of iterations =', it)\n",
        "  print('x* =', x.T)\n",
        "  print('f(x*) =', f(x))\n",
        "  return(x)"
      ],
      "metadata": {
        "id": "kB5olDiYvtXf"
      },
      "execution_count": 6,
      "outputs": []
    },
    {
      "cell_type": "code",
      "source": [
        "x = np.array([[0, -2]]).T\n",
        "\n",
        "tol = 10**(-6)\n",
        "cap = 40000\n",
        "\n",
        "x_star1 = subgrad_descent(x, tol, cap, 1000)"
      ],
      "metadata": {
        "colab": {
          "base_uri": "https://localhost:8080/"
        },
        "id": "bgMDLMrH2KiJ",
        "outputId": "a7ed1c0d-e0fd-4ac5-d90c-786e0a98f60b"
      },
      "execution_count": 7,
      "outputs": [
        {
          "output_type": "stream",
          "name": "stdout",
          "text": [
            "number of iterations = 40000\n",
            "x* = [[-1.41441469 -1.41441474]]\n",
            "f(x*) = -2.827691452141292\n"
          ]
        }
      ]
    }
  ]
}