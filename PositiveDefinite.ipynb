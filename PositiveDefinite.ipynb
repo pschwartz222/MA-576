{
  "nbformat": 4,
  "nbformat_minor": 0,
  "metadata": {
    "colab": {
      "provenance": [],
      "authorship_tag": "ABX9TyNpWT584ca6FN2tn02hiHH1",
      "include_colab_link": true
    },
    "kernelspec": {
      "name": "python3",
      "display_name": "Python 3"
    },
    "language_info": {
      "name": "python"
    }
  },
  "cells": [
    {
      "cell_type": "markdown",
      "metadata": {
        "id": "view-in-github",
        "colab_type": "text"
      },
      "source": [
        "<a href=\"https://colab.research.google.com/github/pschwartz222/MA-576/blob/main/PositiveDefinite.ipynb\" target=\"_parent\"><img src=\"https://colab.research.google.com/assets/colab-badge.svg\" alt=\"Open In Colab\"/></a>"
      ]
    },
    {
      "cell_type": "code",
      "execution_count": null,
      "metadata": {
        "id": "xpl_IjD6R7iJ"
      },
      "outputs": [],
      "source": [
        "import numpy as np\n",
        "from numpy.linalg import eig\n",
        "from numpy import linalg as LA\n",
        "import math\n",
        "import random"
      ]
    },
    {
      "cell_type": "code",
      "source": [
        "A = np.array([[1, 2], [2, 1]])\n",
        "u, T = eig(A) #outputs and array with the eigenvalues of A and a matrix whose columns are the eigenvectors of A\n",
        "\n",
        "print(A, '\\n')\n",
        "print(u, '\\n')\n",
        "print(T, '\\n')\n",
        "\n",
        "v = T[:,0:1]\n",
        "\n",
        "print(A @ v, '\\n') #check that v is an eigenvector of A\n",
        "print(3*v, '\\n')\n",
        "\n",
        "D = LA.inv(T) @ A @ T #Diagonalize\n",
        "\n",
        "print(D, '\\n')\n",
        "\n",
        "print(T @ D @ LA.inv(T))"
      ],
      "metadata": {
        "colab": {
          "base_uri": "https://localhost:8080/"
        },
        "id": "cU7JYsIQTBW8",
        "outputId": "86141232-a93f-47ba-9716-25eb2135b303"
      },
      "execution_count": null,
      "outputs": [
        {
          "output_type": "stream",
          "name": "stdout",
          "text": [
            "[[1 2]\n",
            " [2 1]] \n",
            "\n",
            "[ 3. -1.] \n",
            "\n",
            "[[ 0.70710678 -0.70710678]\n",
            " [ 0.70710678  0.70710678]] \n",
            "\n",
            "[[2.12132034]\n",
            " [2.12132034]] \n",
            "\n",
            "[[2.12132034]\n",
            " [2.12132034]] \n",
            "\n",
            "[[ 3.00000000e+00  4.44089210e-16]\n",
            " [ 6.66133815e-16 -1.00000000e+00]] \n",
            "\n",
            "[[1. 2.]\n",
            " [2. 1.]]\n"
          ]
        }
      ]
    },
    {
      "cell_type": "code",
      "source": [
        "def makeMatrix(n): #outputs an (n x n) invertible, symmetric matrix\n",
        "  L = np.random.rand(n,n)\n",
        "  while np.linalg.det(L) == 0:\n",
        "    L = np.random.rand(n,n)\n",
        "  A = L @ L.T\n",
        "  return(A)\n"
      ],
      "metadata": {
        "id": "aNk5i4rGSCMn"
      },
      "execution_count": null,
      "outputs": []
    },
    {
      "cell_type": "code",
      "source": [
        "A = makeMatrix(4)\n",
        "print(A)"
      ],
      "metadata": {
        "colab": {
          "base_uri": "https://localhost:8080/"
        },
        "id": "8fnrPcVjbww2",
        "outputId": "629647c3-33e8-4c57-98ce-01b08eaf3286"
      },
      "execution_count": null,
      "outputs": [
        {
          "output_type": "stream",
          "name": "stdout",
          "text": [
            "[[1.66158535 1.32021088 1.77849773 0.60114786]\n",
            " [1.32021088 1.69260931 1.36337961 0.65648344]\n",
            " [1.77849773 1.36337961 2.26277223 0.63183248]\n",
            " [0.60114786 0.65648344 0.63183248 0.59840811]]\n"
          ]
        }
      ]
    },
    {
      "cell_type": "code",
      "source": [
        "def Sylvester(A): #input a square symmetric matrix with positive entries on the main diagonal.\n",
        "  signs = []\n",
        "  n= len(A)\n",
        "  for i in range(1,n+1):\n",
        "   block = A[:i, :i]\n",
        "   d = LA.det(block)\n",
        "   signs.append(d > 0)\n",
        "  if all(signs) == True:\n",
        "    print('Positive definite')\n",
        "  else:\n",
        "    print('Not positive definite')"
      ],
      "metadata": {
        "id": "1MJUXN3EmRh-"
      },
      "execution_count": null,
      "outputs": []
    },
    {
      "cell_type": "code",
      "source": [
        "Sylvester(A)"
      ],
      "metadata": {
        "id": "yEVXMf7Cm4po",
        "colab": {
          "base_uri": "https://localhost:8080/"
        },
        "outputId": "d2762690-9268-4681-9a19-0675e24971ce"
      },
      "execution_count": null,
      "outputs": [
        {
          "output_type": "stream",
          "name": "stdout",
          "text": [
            "Positive definite\n"
          ]
        }
      ]
    },
    {
      "cell_type": "code",
      "source": [
        "for i in range(10):\n",
        "  A = makeMatrix(4)\n",
        "  Sylvester(A)"
      ],
      "metadata": {
        "colab": {
          "base_uri": "https://localhost:8080/"
        },
        "id": "QxZq7GiqA5YJ",
        "outputId": "cde3bb3c-065c-4a5b-ae69-3e3e53e4eed3"
      },
      "execution_count": null,
      "outputs": [
        {
          "output_type": "stream",
          "name": "stdout",
          "text": [
            "Positive definite\n",
            "Positive definite\n",
            "Positive definite\n",
            "Positive definite\n",
            "Positive definite\n",
            "Positive definite\n",
            "Positive definite\n",
            "Positive definite\n",
            "Positive definite\n",
            "Positive definite\n"
          ]
        }
      ]
    },
    {
      "cell_type": "code",
      "source": [
        "print(A)"
      ],
      "metadata": {
        "colab": {
          "base_uri": "https://localhost:8080/"
        },
        "id": "_RHnTz8eJY1-",
        "outputId": "babe0a1f-8bb7-46e3-a6ff-2a5927969170"
      },
      "execution_count": null,
      "outputs": [
        {
          "output_type": "stream",
          "name": "stdout",
          "text": [
            "[[2.0853787  1.59422591 1.86835069 1.12156657]\n",
            " [1.59422591 2.1443549  1.57868729 0.86863622]\n",
            " [1.86835069 1.57868729 1.89281681 0.99790215]\n",
            " [1.12156657 0.86863622 0.99790215 0.65058043]]\n"
          ]
        }
      ]
    },
    {
      "cell_type": "code",
      "source": [
        "def diagonalize(A): #input a diagonalizable matrix\n",
        "  n = len(A)\n",
        "  u, P = eig(A)\n",
        "  D = np.diag(u)\n",
        "  return D, P"
      ],
      "metadata": {
        "id": "RJTl6C3hQFlV"
      },
      "execution_count": null,
      "outputs": []
    },
    {
      "cell_type": "code",
      "source": [
        "D, P = diagonalize(A)"
      ],
      "metadata": {
        "id": "KHUb6S8nKBiO"
      },
      "execution_count": null,
      "outputs": []
    },
    {
      "cell_type": "code",
      "source": [
        "print(LA.inv(P)@ A @ P, \"\\n\")\n",
        "print(P @ D @ LA.inv(P))"
      ],
      "metadata": {
        "colab": {
          "base_uri": "https://localhost:8080/"
        },
        "id": "LAV29kIZJwLI",
        "outputId": "46737967-c7d6-4383-9c99-270ce1dde11a"
      },
      "execution_count": null,
      "outputs": [
        {
          "output_type": "stream",
          "name": "stdout",
          "text": [
            "[[ 5.96611765e+00 -1.11022302e-16 -2.22044605e-16 -5.55111512e-16]\n",
            " [ 3.26128013e-15  6.35604221e-01  2.08166817e-16 -2.01227923e-16]\n",
            " [-2.58126853e-15 -2.55871713e-16  3.36654447e-02  1.68268177e-16]\n",
            " [ 2.98372438e-15  3.53883589e-16 -6.24500451e-17  1.37743532e-01]] \n",
            "\n",
            "[[2.0853787  1.59422591 1.86835069 1.12156657]\n",
            " [1.59422591 2.1443549  1.57868729 0.86863622]\n",
            " [1.86835069 1.57868729 1.89281681 0.99790215]\n",
            " [1.12156657 0.86863622 0.99790215 0.65058043]]\n"
          ]
        }
      ]
    },
    {
      "cell_type": "code",
      "source": [
        "B = np.array([[1,2], [2,1]])\n",
        "\n",
        "D, P = diagonalize(B)\n",
        "\n",
        "print(LA.det(B))\n",
        "\n",
        "print(LA.inv(P) @ B @ P)"
      ],
      "metadata": {
        "colab": {
          "base_uri": "https://localhost:8080/"
        },
        "id": "-uQSpIhgKne0",
        "outputId": "500dfed7-9dc9-4db1-f087-5d767ff3c533"
      },
      "execution_count": null,
      "outputs": [
        {
          "output_type": "stream",
          "name": "stdout",
          "text": [
            "-2.9999999999999996\n",
            "[[ 3.00000000e+00  4.44089210e-16]\n",
            " [ 6.66133815e-16 -1.00000000e+00]]\n"
          ]
        }
      ]
    },
    {
      "cell_type": "code",
      "source": [
        "A = makeMatrix(4)\n",
        "delta, T = diagonalize(A)\n",
        "B = LA.inv(T) @ A @ T\n",
        "C = B.round(9)\n",
        "print(C)"
      ],
      "metadata": {
        "colab": {
          "base_uri": "https://localhost:8080/"
        },
        "id": "qLNFOBhIQcBH",
        "outputId": "5742767e-195f-4735-8b7c-f2b42f158f61"
      },
      "execution_count": null,
      "outputs": [
        {
          "output_type": "stream",
          "name": "stdout",
          "text": [
            "[[ 4.42302731e+00 -0.00000000e+00  0.00000000e+00  0.00000000e+00]\n",
            " [ 0.00000000e+00  1.92797000e-03 -0.00000000e+00  0.00000000e+00]\n",
            " [ 0.00000000e+00 -0.00000000e+00  7.12730517e-01 -0.00000000e+00]\n",
            " [ 0.00000000e+00 -0.00000000e+00 -0.00000000e+00  4.54871481e-01]]\n"
          ]
        }
      ]
    }
  ]
}