{
  "nbformat": 4,
  "nbformat_minor": 0,
  "metadata": {
    "colab": {
      "provenance": [],
      "authorship_tag": "ABX9TyMc5JdFpxs/kFq7MvbgwdSa",
      "include_colab_link": true
    },
    "kernelspec": {
      "name": "python3",
      "display_name": "Python 3"
    },
    "language_info": {
      "name": "python"
    }
  },
  "cells": [
    {
      "cell_type": "markdown",
      "metadata": {
        "id": "view-in-github",
        "colab_type": "text"
      },
      "source": [
        "<a href=\"https://colab.research.google.com/github/pschwartz222/MA-576/blob/main/Simplex.ipynb\" target=\"_parent\"><img src=\"https://colab.research.google.com/assets/colab-badge.svg\" alt=\"Open In Colab\"/></a>"
      ]
    },
    {
      "cell_type": "code",
      "execution_count": null,
      "metadata": {
        "id": "MyE7226bl-nx"
      },
      "outputs": [],
      "source": [
        "import numpy as np\n",
        "from numpy.linalg import eig\n",
        "from numpy import linalg as LA\n",
        "import matplotlib.pyplot as plt\n",
        "import itertools"
      ]
    },
    {
      "cell_type": "code",
      "source": [
        "A = np.array([[2, 3, -1, -1], [4, 1, 1, -2]])\n",
        "m = len(A)\n",
        "n = len(A[0])\n",
        "index = list(range(n))\n",
        "print('m =', m, 'n =', n)\n",
        "print(index)"
      ],
      "metadata": {
        "colab": {
          "base_uri": "https://localhost:8080/"
        },
        "id": "W6HXRIp0mIpJ",
        "outputId": "ecbfd9d5-363a-4a4a-bf1b-f61c0ded4934"
      },
      "execution_count": null,
      "outputs": [
        {
          "output_type": "stream",
          "name": "stdout",
          "text": [
            "m = 2 n = 4\n",
            "[0, 1, 2, 3]\n"
          ]
        }
      ]
    },
    {
      "cell_type": "code",
      "source": [
        "print(A)"
      ],
      "metadata": {
        "colab": {
          "base_uri": "https://localhost:8080/"
        },
        "id": "-m3ykzRXpKXR",
        "outputId": "4b2a5775-a33a-4bf2-cdc4-ce1c9e37c916"
      },
      "execution_count": null,
      "outputs": [
        {
          "output_type": "stream",
          "name": "stdout",
          "text": [
            "[[ 2  3 -1 -1]\n",
            " [ 4  1  1 -2]]\n"
          ]
        }
      ]
    },
    {
      "cell_type": "code",
      "source": [
        "C = A[:,[0,2]]\n",
        "print(C)"
      ],
      "metadata": {
        "colab": {
          "base_uri": "https://localhost:8080/"
        },
        "id": "9dTpxt8Dryuc",
        "outputId": "5b9ae704-1a54-4d21-ea06-414cef0d0982"
      },
      "execution_count": null,
      "outputs": [
        {
          "output_type": "stream",
          "name": "stdout",
          "text": [
            "[[ 2 -1]\n",
            " [ 4  1]]\n"
          ]
        }
      ]
    },
    {
      "cell_type": "markdown",
      "source": [
        "find all subsets of {0,1,2,...,n-1} of cardinality m."
      ],
      "metadata": {
        "id": "YoNXxNoMOXuT"
      }
    },
    {
      "cell_type": "code",
      "source": [
        "for subset in itertools.combinations(index, m):\n",
        "  print(subset)"
      ],
      "metadata": {
        "colab": {
          "base_uri": "https://localhost:8080/"
        },
        "id": "ci6hrw3Ip1fq",
        "outputId": "5db35368-ff98-4760-a0fc-f10eaa1eb039"
      },
      "execution_count": null,
      "outputs": [
        {
          "output_type": "stream",
          "name": "stdout",
          "text": [
            "(0, 1)\n",
            "(0, 2)\n",
            "(0, 3)\n",
            "(1, 2)\n",
            "(1, 3)\n",
            "(2, 3)\n"
          ]
        }
      ]
    },
    {
      "cell_type": "markdown",
      "source": [
        "pick out the matrix whose columns are indexed by subset"
      ],
      "metadata": {
        "id": "En_shfJoOyFL"
      }
    },
    {
      "cell_type": "code",
      "source": [
        "C = A[:, subset]\n",
        "print(C)"
      ],
      "metadata": {
        "colab": {
          "base_uri": "https://localhost:8080/"
        },
        "id": "ASLukqwItY7l",
        "outputId": "13758296-d593-4941-e918-3fc08cda0837"
      },
      "execution_count": null,
      "outputs": [
        {
          "output_type": "stream",
          "name": "stdout",
          "text": [
            "[[-1 -1]\n",
            " [ 1 -2]]\n"
          ]
        }
      ]
    },
    {
      "cell_type": "code",
      "source": [
        "def basic_solution(A, b): #A is an (m x n) matrix of rank m (n>m) and b is a column with m entries\n",
        "  m = len(A)\n",
        "  n = len(A[0])\n",
        "  index = list(range(n))\n",
        "  numb_comb = 0 #we will count the number of combinations of m columns that are linearly independent\n",
        "  for subset in itertools.combinations(index,m):\n",
        "    A_B = A[:,subset]\n",
        "    if np.linalg.det(A_B) != 0:\n",
        "      numb_comb = numb_comb+1\n",
        "\n",
        "  X = np.zeros((n,numb_comb))\n",
        "  comb=0\n",
        "  for subset in itertools.combinations(index, m):\n",
        "   A_B = A[:, subset]\n",
        "   if (np.linalg.det(A_B) != 0):\n",
        "    x_B = LA.inv(A_B) @ b\n",
        "    x = np.zeros((n,1))\n",
        "    for k in range(m):\n",
        "      i = subset[k]\n",
        "      x[i,0] = x_B[k,0]\n",
        "      X[i, comb] = x_B[k,0]\n",
        "    comb=comb+1\n",
        "    #print(x)\n",
        "  print('number of basic solutions:', numb_comb)\n",
        "  return(X) #each column is a basic solution"
      ],
      "metadata": {
        "id": "r3YLhyHQmni-"
      },
      "execution_count": null,
      "outputs": []
    },
    {
      "cell_type": "code",
      "source": [
        "b = np.array([[-1], [9]])\n",
        "print(b)"
      ],
      "metadata": {
        "colab": {
          "base_uri": "https://localhost:8080/"
        },
        "id": "jf1J_6l1wLDV",
        "outputId": "7a97096d-d445-4a8b-8989-90a33ed5d92c"
      },
      "execution_count": null,
      "outputs": [
        {
          "output_type": "stream",
          "name": "stdout",
          "text": [
            "[[-1]\n",
            " [ 9]]\n"
          ]
        }
      ]
    },
    {
      "cell_type": "markdown",
      "source": [
        "Find the basic solutions of Ax=b where A is an m x n matrix of rank m."
      ],
      "metadata": {
        "id": "SM7aMW5cMLS0"
      }
    },
    {
      "cell_type": "code",
      "source": [
        "M=basic_solution(A,b)\n",
        "print(M)"
      ],
      "metadata": {
        "colab": {
          "base_uri": "https://localhost:8080/"
        },
        "id": "9xkzcy5t19ID",
        "outputId": "26f40a9b-320b-4d7b-cab4-e00f376c0000"
      },
      "execution_count": null,
      "outputs": [
        {
          "output_type": "stream",
          "name": "stdout",
          "text": [
            "number of basic solutions: 5\n",
            "[[ 2.8         1.33333333  0.          0.          0.        ]\n",
            " [-2.2         0.          2.         -2.2         0.        ]\n",
            " [ 0.          3.66666667  7.          0.          3.66666667]\n",
            " [ 0.          0.          0.         -5.6        -2.66666667]]\n"
          ]
        }
      ]
    },
    {
      "cell_type": "markdown",
      "source": [
        "Perform Simplex method"
      ],
      "metadata": {
        "id": "7OSIsaNARvUL"
      }
    },
    {
      "cell_type": "code",
      "source": [
        "b_1 = np.matrix([[12], [4]])\n",
        "Q = np.array([[2, 4, 1, 0], [1, 1, 0, 1]])\n",
        "print(Q)"
      ],
      "metadata": {
        "colab": {
          "base_uri": "https://localhost:8080/"
        },
        "id": "OyiSVXqDIO5b",
        "outputId": "fc89bdb1-1401-409c-ec29-a8239e0a7754"
      },
      "execution_count": null,
      "outputs": [
        {
          "output_type": "stream",
          "name": "stdout",
          "text": [
            "[[2 4 1 0]\n",
            " [1 1 0 1]]\n"
          ]
        }
      ]
    },
    {
      "cell_type": "code",
      "source": [
        "m_1 = len(Q)\n",
        "print(m_1)\n",
        "n_1 = len(Q[0])\n",
        "print(n_1)"
      ],
      "metadata": {
        "id": "9D52AXNeKkoX",
        "colab": {
          "base_uri": "https://localhost:8080/"
        },
        "outputId": "d8a30d6b-d009-4360-a5eb-1af68759b274"
      },
      "execution_count": null,
      "outputs": [
        {
          "output_type": "stream",
          "name": "stdout",
          "text": [
            "2\n",
            "4\n"
          ]
        }
      ]
    },
    {
      "cell_type": "code",
      "source": [
        "N = basic_solution(Q,b_1)"
      ],
      "metadata": {
        "colab": {
          "base_uri": "https://localhost:8080/"
        },
        "id": "Julvdn8YLHDY",
        "outputId": "731d6efd-1014-4adf-8a57-47fcdff80d9c"
      },
      "execution_count": null,
      "outputs": [
        {
          "output_type": "stream",
          "name": "stdout",
          "text": [
            "number of basic solutions: 6\n"
          ]
        }
      ]
    },
    {
      "cell_type": "code",
      "source": [
        "print(N)"
      ],
      "metadata": {
        "colab": {
          "base_uri": "https://localhost:8080/"
        },
        "id": "MQG9XgiULMan",
        "outputId": "838b18c3-ae0d-4226-e017-2bc96f307382"
      },
      "execution_count": null,
      "outputs": [
        {
          "output_type": "stream",
          "name": "stdout",
          "text": [
            "[[ 2.  4.  6.  0.  0.  0.]\n",
            " [ 2.  0.  0.  4.  3.  0.]\n",
            " [ 0.  4.  0. -4.  0. 12.]\n",
            " [ 0.  0. -2.  0.  1.  4.]]\n"
          ]
        }
      ]
    },
    {
      "cell_type": "code",
      "source": [
        "f = np.array([2, 3, 0, 0])"
      ],
      "metadata": {
        "id": "NHOoK2n0L9Zr"
      },
      "execution_count": null,
      "outputs": []
    },
    {
      "cell_type": "markdown",
      "source": [
        "given a matrix M whose columns are basic solutions, we reduce to the basic feasible solutions and find the maxiumum output."
      ],
      "metadata": {
        "id": "1C0gufAWMXti"
      }
    },
    {
      "cell_type": "code",
      "source": [
        "def find_maximum(M, c):\n",
        "  n = len(M[0])\n",
        "  positive_cols = []\n",
        "  values = []\n",
        "  for i in range(n):\n",
        "    if all(M[:,i] >= 0) :\n",
        "      positive_cols.append(i)\n",
        "      values.append(c.T @ M[:,i])\n",
        "  N = M[:, positive_cols]\n",
        "  max_value = max(values)\n",
        "  return N, max_value"
      ],
      "metadata": {
        "id": "LEYaASHhH8i3"
      },
      "execution_count": null,
      "outputs": []
    },
    {
      "cell_type": "code",
      "source": [
        "T, max_value = find_maximum(N,f)\n",
        "print('basic feasible solutions =')\n",
        "print(T)\n",
        "print('max f(x) =', max_value)"
      ],
      "metadata": {
        "colab": {
          "base_uri": "https://localhost:8080/"
        },
        "id": "7wXuHw54JrTZ",
        "outputId": "aacd7719-a72c-40ff-9659-8470ef164565"
      },
      "execution_count": null,
      "outputs": [
        {
          "output_type": "stream",
          "name": "stdout",
          "text": [
            "basic feasible solutions =\n",
            "[[ 2.  4.  0.  0.]\n",
            " [ 2.  0.  3.  0.]\n",
            " [ 0.  4.  0. 12.]\n",
            " [ 0.  0.  1.  4.]]\n",
            "max f(x) = 10.0\n"
          ]
        }
      ]
    },
    {
      "cell_type": "code",
      "source": [
        "Q = basic_solution(P,b_2)"
      ],
      "metadata": {
        "colab": {
          "base_uri": "https://localhost:8080/"
        },
        "id": "5XOQiUyc8-5q",
        "outputId": "c1f80638-68bc-4fbe-a58c-c64557ab1c88"
      },
      "execution_count": null,
      "outputs": [
        {
          "output_type": "stream",
          "name": "stdout",
          "text": [
            "number of basic solutions: 10\n"
          ]
        }
      ]
    },
    {
      "cell_type": "code",
      "source": [
        "basic_feasible_2, max_value_2 = find_maximum(Q,f_2)"
      ],
      "metadata": {
        "id": "C50VHgzF9fpz"
      },
      "execution_count": null,
      "outputs": []
    },
    {
      "cell_type": "code",
      "source": [
        "P = np.array([[6, 3, 1, 0, 0], [1, 1, 0, 1, 0], [2, 6, 0, 0, 1]])\n",
        "b_2 = np.array([[96], [18], [72]])"
      ],
      "metadata": {
        "id": "dfZXGzqx8ZTq"
      },
      "execution_count": null,
      "outputs": []
    },
    {
      "cell_type": "code",
      "source": [
        "f_2 = np.array([80, 70, 0, 0, 0])"
      ],
      "metadata": {
        "id": "Q7QNwpTZ9QPi"
      },
      "execution_count": null,
      "outputs": []
    },
    {
      "cell_type": "code",
      "source": [
        "\n",
        "print('basic feasible solutions =')\n",
        "print(basic_feasible_2)\n",
        "print('max 80x+70y =', max_value_2)"
      ],
      "metadata": {
        "id": "JOqNEqIW9q1z"
      },
      "execution_count": null,
      "outputs": []
    }
  ]
}