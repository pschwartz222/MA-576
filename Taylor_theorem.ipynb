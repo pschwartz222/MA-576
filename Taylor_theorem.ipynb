{
  "nbformat": 4,
  "nbformat_minor": 0,
  "metadata": {
    "colab": {
      "provenance": [],
      "authorship_tag": "ABX9TyMtIcyfqSqxrgoBBvqtbHYO",
      "include_colab_link": true
    },
    "kernelspec": {
      "name": "python3",
      "display_name": "Python 3"
    },
    "language_info": {
      "name": "python"
    }
  },
  "cells": [
    {
      "cell_type": "markdown",
      "metadata": {
        "id": "view-in-github",
        "colab_type": "text"
      },
      "source": [
        "<a href=\"https://colab.research.google.com/github/pschwartz222/MA-576/blob/main/Taylor_theorem.ipynb\" target=\"_parent\"><img src=\"https://colab.research.google.com/assets/colab-badge.svg\" alt=\"Open In Colab\"/></a>"
      ]
    },
    {
      "cell_type": "code",
      "execution_count": null,
      "metadata": {
        "id": "1UZ0W-XJyccr"
      },
      "outputs": [],
      "source": [
        "import numpy as np\n",
        "from numpy.linalg import eig\n",
        "from numpy import linalg as LA\n",
        "import matplotlib.pyplot as plt\n",
        "from sympy import diff, symbols\n",
        "from sympy import cos, sin, Matrix"
      ]
    },
    {
      "cell_type": "code",
      "source": [
        "x,y = symbols('x y')\n",
        "X = np.array([[x],[y]])\n",
        "f = x*y-sin(x)*sin(y) #defining f(x,y)\n",
        "f_x,f_y= [diff(f,x),diff(f,y)]\n",
        "print('f_x(x,y) =', f_x)\n",
        "G = Matrix([[f_x],[f_y]])\n",
        "print('Grad(x,y) =', G)"
      ],
      "metadata": {
        "colab": {
          "base_uri": "https://localhost:8080/"
        },
        "id": "5eKbOSjbyhlN",
        "outputId": "b34645bb-4bbd-4bf1-efbd-07f8ace20f52"
      },
      "execution_count": null,
      "outputs": [
        {
          "output_type": "stream",
          "name": "stdout",
          "text": [
            "f_x(x,y) = y - sin(y)*cos(x)\n",
            "Grad(x,y) = Matrix([[y - sin(y)*cos(x)], [x - sin(x)*cos(y)]])\n"
          ]
        }
      ]
    },
    {
      "cell_type": "code",
      "source": [
        "grad = G.subs({x:0, y:0})\n",
        "print('grad(0,0)=', grad)"
      ],
      "metadata": {
        "colab": {
          "base_uri": "https://localhost:8080/"
        },
        "id": "wRFMAjXACfdi",
        "outputId": "60049d04-bd30-4c5c-ae9c-4e4cb5abfa00"
      },
      "execution_count": null,
      "outputs": [
        {
          "output_type": "stream",
          "name": "stdout",
          "text": [
            "grad(0,0)= Matrix([[0], [0]])\n"
          ]
        }
      ]
    },
    {
      "cell_type": "code",
      "source": [
        "f_xx = diff(f_x,x)\n",
        "f_xy = diff(f_x,y)  #f_xy=f_yx\n",
        "f_yy = diff(f_y,y)\n",
        "print('f_xy(x,y) =', f_xy)"
      ],
      "metadata": {
        "colab": {
          "base_uri": "https://localhost:8080/"
        },
        "id": "erDP2bh01N8A",
        "outputId": "a79ecb26-e4f9-4e7d-98e6-61da75ac1646"
      },
      "execution_count": null,
      "outputs": [
        {
          "output_type": "stream",
          "name": "stdout",
          "text": [
            "f_xy(x,y) = -cos(x)*cos(y) + 1\n"
          ]
        }
      ]
    },
    {
      "cell_type": "code",
      "source": [
        "jac = G.jacobian(X)\n",
        "print('Jac(x,y) =', jac)\n",
        "jac_0 = jac.subs({x:0, y:0})\n",
        "print(jac_0)"
      ],
      "metadata": {
        "colab": {
          "base_uri": "https://localhost:8080/"
        },
        "id": "LeIPW8zBCdEo",
        "outputId": "35b1d474-bc94-4e04-a15e-92a0ff1eeb5f"
      },
      "execution_count": null,
      "outputs": [
        {
          "output_type": "stream",
          "name": "stdout",
          "text": [
            "Jac(x,y) = Matrix([[sin(x)*sin(y), -cos(x)*cos(y) + 1], [-cos(x)*cos(y) + 1, sin(x)*sin(y)]])\n",
            "Matrix([[0, 0], [0, 0]])\n"
          ]
        }
      ]
    },
    {
      "cell_type": "code",
      "source": [
        "g = np.array(grad[:,:])\n",
        "print(g)\n",
        "J = np.array(jac_0[:,:])\n",
        "print(J)"
      ],
      "metadata": {
        "colab": {
          "base_uri": "https://localhost:8080/"
        },
        "id": "HvHLaylWEHh8",
        "outputId": "15f13ebc-34f4-4363-9bed-f8d784f941a3"
      },
      "execution_count": null,
      "outputs": [
        {
          "output_type": "stream",
          "name": "stdout",
          "text": [
            "[[0]\n",
            " [0]]\n",
            "[[0 0]\n",
            " [0 0]]\n"
          ]
        }
      ]
    },
    {
      "cell_type": "code",
      "source": [
        "x_0 = f.subs({x:0, y:0})\n",
        "N = x_0 + g.T @ X +(.5)*(X.T @ J @ X)\n",
        "print(N)"
      ],
      "metadata": {
        "colab": {
          "base_uri": "https://localhost:8080/"
        },
        "id": "gT-2KXRgGXhB",
        "outputId": "d7455f4a-e3f3-4dfc-c36c-cd42a19e924e"
      },
      "execution_count": null,
      "outputs": [
        {
          "output_type": "stream",
          "name": "stdout",
          "text": [
            "[[0]]\n"
          ]
        }
      ]
    }
  ]
}